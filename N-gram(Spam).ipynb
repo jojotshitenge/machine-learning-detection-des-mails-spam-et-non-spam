{
 "cells": [
  {
   "cell_type": "code",
   "execution_count": 1,
   "metadata": {},
   "outputs": [],
   "source": [
    "import numpy as np # Линейная алгебра\n",
    "import pandas as pd # Обработка и анализ данных\n",
    "from wordcloud import WordCloud # Облако тегов\n",
    "from wordcloud import STOPWORDS # Останавливает слова\n",
    "import nltk # Символьная и статистическая обработка естественного языка\n",
    "from sklearn.metrics import roc_curve\n",
    "from sklearn.metrics import auc\n",
    "import matplotlib.pyplot as plt \n",
    "import seaborn as sns # Статистическая визуализация данных\n",
    "import scikitplot as skplt\n",
    "#simport scikitplot as skplt\n",
    "from sklearn.model_selection import train_test_split # Разделяет массивы и матрицы в рандомные train and test subsets \n",
    "\n",
    "from sklearn.feature_extraction.text import CountVectorizer, TfidfTransformer \n",
    "# CountVectorizer - Преобразование коллекции текстовых документов в матрицу подсчета токенов\n",
    "# TfidfTransformer - Преобразование матрицы отсчета в нормализованное представление tf или tf-idf\n",
    "\n",
    "from sklearn.metrics import accuracy_score, confusion_matrix, classification_report #класс оценок\n",
    "# Accuracy Score - вычисляет точность подмножества: набор меток, предсказанных для образца\n",
    "# Confusion Matrix - матрица ошибок\n",
    "# Classification Report - текстовый отчет, показывающий основные показатели классификации\n",
    "\n",
    "\n",
    "#import methods\n",
    "from sklearn.naive_bayes import MultinomialNB \n",
    "from sklearn import svm\n",
    "from sklearn.neighbors import KNeighborsClassifier\n",
    "from sklearn.tree import DecisionTreeClassifier\n",
    "from sklearn.ensemble import RandomForestClassifier\n",
    "#from sklearn.neural_network import MLPClassifier\n",
    "#from xgboost import XGBClassifier\n",
    " "
   ]
  },
  {
   "cell_type": "code",
   "execution_count": 2,
   "metadata": {},
   "outputs": [
    {
     "name": "stderr",
     "output_type": "stream",
     "text": [
      "[nltk_data] Downloading package stopwords to\n",
      "[nltk_data]     C:\\Users\\Jojo\\AppData\\Roaming\\nltk_data...\n",
      "[nltk_data]   Package stopwords is already up-to-date!\n",
      "[nltk_data] Downloading package punkt to\n",
      "[nltk_data]     C:\\Users\\Jojo\\AppData\\Roaming\\nltk_data...\n",
      "[nltk_data]   Package punkt is already up-to-date!\n"
     ]
    },
    {
     "data": {
      "text/plain": [
       "True"
      ]
     },
     "execution_count": 2,
     "metadata": {},
     "output_type": "execute_result"
    }
   ],
   "source": [
    "nltk.download(\"stopwords\")\n",
    "nltk.download('punkt')"
   ]
  },
  {
   "cell_type": "code",
   "execution_count": 3,
   "metadata": {},
   "outputs": [],
   "source": [
    "import os\n",
    "#print(os.listdir(\"../input\"))"
   ]
  },
  {
   "cell_type": "markdown",
   "metadata": {},
   "source": [
    "# Read Data "
   ]
  },
  {
   "cell_type": "code",
   "execution_count": 4,
   "metadata": {},
   "outputs": [],
   "source": [
    "df = pd.read_csv(\"email.csv\", encoding = 'latin-1')\n",
    "# split into input (X) and output (Y) variables\n",
    "X = df.iloc[:,0:1]\n",
    "Y = df.iloc[:,1]\n"
   ]
  },
  {
   "cell_type": "markdown",
   "metadata": {},
   "source": [
    "# Show Data"
   ]
  },
  {
   "cell_type": "code",
   "execution_count": 5,
   "metadata": {},
   "outputs": [
    {
     "data": {
      "text/html": [
       "<div>\n",
       "<style scoped>\n",
       "    .dataframe tbody tr th:only-of-type {\n",
       "        vertical-align: middle;\n",
       "    }\n",
       "\n",
       "    .dataframe tbody tr th {\n",
       "        vertical-align: top;\n",
       "    }\n",
       "\n",
       "    .dataframe thead th {\n",
       "        text-align: right;\n",
       "    }\n",
       "</style>\n",
       "<table border=\"1\" class=\"dataframe\">\n",
       "  <thead>\n",
       "    <tr style=\"text-align: right;\">\n",
       "      <th></th>\n",
       "      <th>text</th>\n",
       "      <th>spam</th>\n",
       "    </tr>\n",
       "  </thead>\n",
       "  <tbody>\n",
       "    <tr>\n",
       "      <th>0</th>\n",
       "      <td>Subject: christmas tree farm pictures\\r\\r\\n</td>\n",
       "      <td>1</td>\n",
       "    </tr>\n",
       "    <tr>\n",
       "      <th>1</th>\n",
       "      <td>Subject: vastar resources , inc .\\r\\r\\ngary , ...</td>\n",
       "      <td>1</td>\n",
       "    </tr>\n",
       "    <tr>\n",
       "      <th>2</th>\n",
       "      <td>Subject: calpine daily gas nomination\\r\\r\\n- c...</td>\n",
       "      <td>1</td>\n",
       "    </tr>\n",
       "    <tr>\n",
       "      <th>3</th>\n",
       "      <td>Subject: re : issue\\r\\r\\nfyi - see note below ...</td>\n",
       "      <td>1</td>\n",
       "    </tr>\n",
       "    <tr>\n",
       "      <th>4</th>\n",
       "      <td>Subject: meter 7268 nov allocation\\r\\r\\nfyi .\\...</td>\n",
       "      <td>1</td>\n",
       "    </tr>\n",
       "  </tbody>\n",
       "</table>\n",
       "</div>"
      ],
      "text/plain": [
       "                                                text  spam\n",
       "0        Subject: christmas tree farm pictures\\r\\r\\n     1\n",
       "1  Subject: vastar resources , inc .\\r\\r\\ngary , ...     1\n",
       "2  Subject: calpine daily gas nomination\\r\\r\\n- c...     1\n",
       "3  Subject: re : issue\\r\\r\\nfyi - see note below ...     1\n",
       "4  Subject: meter 7268 nov allocation\\r\\r\\nfyi .\\...     1"
      ]
     },
     "execution_count": 5,
     "metadata": {},
     "output_type": "execute_result"
    }
   ],
   "source": [
    "df.head(5)"
   ]
  },
  {
   "cell_type": "code",
   "execution_count": 6,
   "metadata": {},
   "outputs": [
    {
     "data": {
      "text/html": [
       "<div>\n",
       "<style scoped>\n",
       "    .dataframe tbody tr th:only-of-type {\n",
       "        vertical-align: middle;\n",
       "    }\n",
       "\n",
       "    .dataframe tbody tr th {\n",
       "        vertical-align: top;\n",
       "    }\n",
       "\n",
       "    .dataframe thead th {\n",
       "        text-align: right;\n",
       "    }\n",
       "</style>\n",
       "<table border=\"1\" class=\"dataframe\">\n",
       "  <thead>\n",
       "    <tr style=\"text-align: right;\">\n",
       "      <th></th>\n",
       "      <th>Message</th>\n",
       "      <th>Label</th>\n",
       "    </tr>\n",
       "  </thead>\n",
       "  <tbody>\n",
       "    <tr>\n",
       "      <th>0</th>\n",
       "      <td>Subject: christmas tree farm pictures\\r\\r\\n</td>\n",
       "      <td>1</td>\n",
       "    </tr>\n",
       "    <tr>\n",
       "      <th>1</th>\n",
       "      <td>Subject: vastar resources , inc .\\r\\r\\ngary , ...</td>\n",
       "      <td>1</td>\n",
       "    </tr>\n",
       "    <tr>\n",
       "      <th>2</th>\n",
       "      <td>Subject: calpine daily gas nomination\\r\\r\\n- c...</td>\n",
       "      <td>1</td>\n",
       "    </tr>\n",
       "    <tr>\n",
       "      <th>3</th>\n",
       "      <td>Subject: re : issue\\r\\r\\nfyi - see note below ...</td>\n",
       "      <td>1</td>\n",
       "    </tr>\n",
       "    <tr>\n",
       "      <th>4</th>\n",
       "      <td>Subject: meter 7268 nov allocation\\r\\r\\nfyi .\\...</td>\n",
       "      <td>1</td>\n",
       "    </tr>\n",
       "  </tbody>\n",
       "</table>\n",
       "</div>"
      ],
      "text/plain": [
       "                                             Message  Label\n",
       "0        Subject: christmas tree farm pictures\\r\\r\\n      1\n",
       "1  Subject: vastar resources , inc .\\r\\r\\ngary , ...      1\n",
       "2  Subject: calpine daily gas nomination\\r\\r\\n- c...      1\n",
       "3  Subject: re : issue\\r\\r\\nfyi - see note below ...      1\n",
       "4  Subject: meter 7268 nov allocation\\r\\r\\nfyi .\\...      1"
      ]
     },
     "execution_count": 6,
     "metadata": {},
     "output_type": "execute_result"
    }
   ],
   "source": [
    "#df = df.drop(columns=['Unnamed: 2','Unnamed: 3','Unnamed: 4'])\n",
    "#df.columns = ['Label', 'Message']\n",
    "df = df.rename(columns={\"spam\":\"Label\", \"text\":\"Message\"})\n",
    "df.head()"
   ]
  },
  {
   "cell_type": "code",
   "execution_count": 7,
   "metadata": {},
   "outputs": [],
   "source": [
    "# Pour Renommer les labels\n",
    "df[\"Label\"] = df.Label.map({0:'ham', 1:'spam'})"
   ]
  },
  {
   "cell_type": "code",
   "execution_count": 8,
   "metadata": {},
   "outputs": [
    {
     "data": {
      "text/plain": [
       "(10000, 2)"
      ]
     },
     "execution_count": 8,
     "metadata": {},
     "output_type": "execute_result"
    }
   ],
   "source": [
    "df.shape"
   ]
  },
  {
   "cell_type": "code",
   "execution_count": 9,
   "metadata": {},
   "outputs": [],
   "source": [
    "#df = np.array(df, dtype=np.dtype(\"Message, Label\")) "
   ]
  },
  {
   "cell_type": "markdown",
   "metadata": {},
   "source": [
    "# Splitting the labels and the data separately"
   ]
  },
  {
   "cell_type": "code",
   "execution_count": 10,
   "metadata": {},
   "outputs": [
    {
     "data": {
      "text/plain": [
       "0     spam\n",
       "1     spam\n",
       "2     spam\n",
       "3     spam\n",
       "4     spam\n",
       "5     spam\n",
       "6     spam\n",
       "7     spam\n",
       "8     spam\n",
       "9     spam\n",
       "10    spam\n",
       "Name: Label, dtype: object"
      ]
     },
     "execution_count": 10,
     "metadata": {},
     "output_type": "execute_result"
    }
   ],
   "source": [
    "df_labels = df['Label']\n",
    "df_labels.head(11)"
   ]
  },
  {
   "cell_type": "code",
   "execution_count": null,
   "metadata": {},
   "outputs": [],
   "source": []
  },
  {
   "cell_type": "markdown",
   "metadata": {},
   "source": [
    "# Data Visualization\n",
    " - To check the most used word in Ham sms and Spam SMS\n",
    " - To visualize the percentage of Ham and Spam SMS"
   ]
  },
  {
   "cell_type": "code",
   "execution_count": null,
   "metadata": {},
   "outputs": [],
   "source": [
    "# Stopwords (Шумовые слова)\n",
    "stopwords = STOPWORDS\n",
    "stopwords = list(stopwords)\n",
    "STOPWORDS = nltk.corpus.stopwords.words('english')\n",
    "stopwords = stopwords + STOPWORDS\n",
    "\n",
    "ham_dataset = df[df.Label == 'ham']\n",
    "spam_dataset = df[df.Label == 'spam']\n",
    "ham_words = ' '\n",
    "spam_words = ' '\n",
    "\n",
    "for words in ham_dataset.Message:\n",
    "    txt = words.lower()\n",
    "    tokens = nltk.word_tokenize(txt)\n",
    "    for word in tokens:\n",
    "        ham_words = ham_words + word + \" \"\n",
    "for words in spam_dataset.Message:\n",
    "    txt = words.lower()\n",
    "    tokens = nltk.word_tokenize(txt)\n",
    "    for word in tokens:\n",
    "        spam_words = spam_words + word + \" \"\n",
    "\n",
    "def gen_wordcloud(wordcloud):\n",
    "    plt.figure(figsize = (10,8))\n",
    "    plt.imshow(wordcloud)\n",
    "    plt.tight_layout(pad=0)\n",
    "    plt.axis('off')\n",
    "    plt.show()\n",
    "    \n",
    "print(\"\\n\")    \n",
    "print(\"\\t\\t\\t\\t HAM WORDS\")    \n",
    "wordcloud = WordCloud(background_color = 'white', width = 500, height = 500, stopwords = stopwords,\n",
    "                     max_words = 500, max_font_size = 50, random_state = 42).generate(ham_words)\n",
    "gen_wordcloud(wordcloud)\n",
    "\n",
    "print(\"\\t\\t\\t\\t SPAM WORDS\")\n",
    "wordcloud = WordCloud(background_color = 'white', width = 500, height = 500, stopwords = stopwords,\n",
    "                     max_words = 500, max_font_size = 50, random_state = 42).generate(spam_words)\n",
    "gen_wordcloud(wordcloud)"
   ]
  },
  {
   "cell_type": "markdown",
   "metadata": {},
   "source": [
    "## Plotting ham and spam data % in pie chart"
   ]
  },
  {
   "cell_type": "code",
   "execution_count": 11,
   "metadata": {},
   "outputs": [
    {
     "data": {
      "image/png": "[encoded data removed]",
      "text/plain": [
       "<Figure size 432x288 with 1 Axes>"
      ]
     },
     "metadata": {},
     "output_type": "display_data"
    }
   ],
   "source": [
    "count_Class = pd.value_counts(df.Label, sort = True)\n",
    "\n",
    "# Data to Plot\n",
    "labels = 'Ham', 'Spam'\n",
    "sizes = [count_Class[0], count_Class[1]]\n",
    "colors = ['lightskyblue', 'aqua']\n",
    "explode = (0.1, 0.1)\n",
    "\n",
    "# Plot\n",
    "plt.pie(sizes, explode = explode, labels = labels, colors = colors,\n",
    "        autopct = '%1.1f%%', shadow = True, startangle = 90)\n",
    "plt.axis('equal')\n",
    "plt.show()"
   ]
  },
  {
   "cell_type": "markdown",
   "metadata": {},
   "source": [
    "# Splitting the Test and Train Data "
   ]
  },
  {
   "cell_type": "code",
   "execution_count": 12,
   "metadata": {},
   "outputs": [
    {
     "name": "stdout",
     "output_type": "stream",
     "text": [
      "(7000, 2)\n",
      "(3000, 2)\n",
      "\n",
      "The Trainset consists of 7000 records and 2 features\n",
      "\n",
      "The Testset consists of 3000 records and 2 features\n"
     ]
    }
   ],
   "source": [
    "train_set, test_set, train_label, test_label = train_test_split(df, df_labels, test_size = 0.30, random_state = 42)\n",
    "print(train_set.shape)\n",
    "print(test_set.shape)\n",
    "print(\"\\nThe Trainset consists of {} records and {} features\".format(train_set.shape[0],train_set.shape[1]))\n",
    "print(\"\\nThe Testset consists of {} records and {} features\".format(test_set.shape[0],train_set.shape[1]))"
   ]
  },
  {
   "cell_type": "markdown",
   "metadata": {},
   "source": [
    "# Extracting N-grams from the Text Data"
   ]
  },
  {
   "cell_type": "code",
   "execution_count": 13,
   "metadata": {},
   "outputs": [],
   "source": [
    "countvect = CountVectorizer(ngram_range = (2,2), )\n",
    "x_counts = countvect.fit(train_set.Message)\n",
    "\n",
    "# preparing for training set\n",
    "x_train_df = countvect.transform(train_set.Message)\n",
    "\n",
    "# preparing for test set\n",
    "x_test_df = countvect.transform(test_set.Message)"
   ]
  },
  {
   "cell_type": "markdown",
   "metadata": {},
   "source": [
    "# Data Model\n",
    "\n",
    "The Algorithms used below in this notebooks are:\n",
    "\n",
    " - Naive Bayes\n",
    " - K-Nearest\n",
    " - Decision Tree\n",
    " - Support Vector Machine\n",
    " - Random Forest\n",
    " - Logistic Regression "
   ]
  },
  {
   "cell_type": "markdown",
   "metadata": {},
   "source": [
    "# Naive Bayes classifier "
   ]
  },
  {
   "cell_type": "code",
   "execution_count": 44,
   "metadata": {},
   "outputs": [
    {
     "name": "stdout",
     "output_type": "stream",
     "text": [
      "The accuracy of Naive Bayes clasifier is 96.73333333333333%\n",
      "\n",
      " [[ 484   91]\n",
      " [   7 2418]]\n"
     ]
    },
    {
     "data": {
      "image/png": "[encoded data removed]",
      "text/plain": [
       "<Figure size 432x288 with 2 Axes>"
      ]
     },
     "metadata": {
      "needs_background": "light"
     },
     "output_type": "display_data"
    },
    {
     "name": "stdout",
     "output_type": "stream",
     "text": [
      "              precision    recall  f1-score   support\n",
      "\n",
      "         ham       0.99      0.84      0.91       575\n",
      "        spam       0.96      1.00      0.98      2425\n",
      "\n",
      "    accuracy                           0.97      3000\n",
      "   macro avg       0.97      0.92      0.94      3000\n",
      "weighted avg       0.97      0.97      0.97      3000\n",
      "\n"
     ]
    }
   ],
   "source": [
    "clf = MultinomialNB()\n",
    "clf.fit(x_train_df,train_set.Label)\n",
    "predicted_values_NB = clf.predict(x_test_df)\n",
    "predictions = dict()\n",
    "accuracy = accuracy_score(test_set.Label, predicted_values_NB)\n",
    "predictions['Naive Bayes'] = accuracy * 100\n",
    "confusionmatrix = confusion_matrix(test_set.Label, predicted_values_NB)\n",
    "print(\"The accuracy of Naive Bayes clasifier is {}%\".format(accuracy * 100))\n",
    "print(\"\\n\", confusionmatrix)\n",
    "skplt.metrics.plot_confusion_matrix(test_set.Label, predicted_values_NB, normalize = True)\n",
    "plt.show()\n",
    "print(classification_report(test_set.Label,predicted_values_NB))\n",
    "#print(accuracy)"
   ]
  },
  {
   "cell_type": "markdown",
   "metadata": {},
   "source": [
    "# K-Nearest Neighbors algorithm\n"
   ]
  },
  {
   "cell_type": "code",
   "execution_count": 43,
   "metadata": {},
   "outputs": [
    {
     "name": "stdout",
     "output_type": "stream",
     "text": [
      "['ham' 'ham' 'ham' ... 'spam' 'ham' 'ham']\n",
      "\n",
      "The accuracy of K-Nearest Neighbors algorithm is 41.6%\n",
      "\n",
      " [[ 564   11]\n",
      " [1741  684]]\n"
     ]
    },
    {
     "data": {
      "image/png": "[encoded data removed]",
      "text/plain": [
       "<Figure size 432x288 with 2 Axes>"
      ]
     },
     "metadata": {
      "needs_background": "light"
     },
     "output_type": "display_data"
    },
    {
     "name": "stdout",
     "output_type": "stream",
     "text": [
      "              precision    recall  f1-score   support\n",
      "\n",
      "         ham       0.24      0.98      0.39       575\n",
      "        spam       0.98      0.28      0.44      2425\n",
      "\n",
      "    accuracy                           0.42      3000\n",
      "   macro avg       0.61      0.63      0.42      3000\n",
      "weighted avg       0.84      0.42      0.43      3000\n",
      "\n"
     ]
    }
   ],
   "source": [
    "#KNN = KNeighborsClassifier(metric = 'euclidean')\n",
    "KNN = KNeighborsClassifier()\n",
    "KNN.fit(x_train_df, train_set.Label)\n",
    "predicted_values_KNN = KNN.predict(x_test_df)\n",
    "print(predicted_values_KNN)\n",
    "accuracy_KNN = accuracy_score(test_set.Label, predicted_values_KNN)\n",
    "predictions['K-Nearest Neighbors algorithm'] = accuracy_KNN * 100\n",
    "print(\"\\nThe accuracy of K-Nearest Neighbors algorithm is {}%\".format(accuracy_KNN * 100))\n",
    "confusion_matrix_KNN = confusion_matrix(test_set.Label, predicted_values_KNN)\n",
    "print(\"\\n\", confusion_matrix_KNN)\n",
    "skplt.metrics.plot_confusion_matrix(test_set.Label, predicted_values_KNN, normalize = True)\n",
    "plt.show()\n",
    "print(classification_report(test_set.Label,predicted_values_KNN))\n",
    "#print(accuracy_KNN)"
   ]
  },
  {
   "cell_type": "markdown",
   "metadata": {},
   "source": [
    "# Decision Tree learning"
   ]
  },
  {
   "cell_type": "code",
   "execution_count": 42,
   "metadata": {},
   "outputs": [
    {
     "name": "stdout",
     "output_type": "stream",
     "text": [
      "['spam' 'ham' 'spam' ... 'spam' 'spam' 'ham']\n",
      "\n",
      "The accuracy of Decision Tree learning is 91.56666666666666%\n",
      "\n",
      " [[ 469  106]\n",
      " [ 147 2278]]\n"
     ]
    },
    {
     "data": {
      "image/png": "[encoded data removed]",
      "text/plain": [
       "<Figure size 432x288 with 2 Axes>"
      ]
     },
     "metadata": {
      "needs_background": "light"
     },
     "output_type": "display_data"
    },
    {
     "name": "stdout",
     "output_type": "stream",
     "text": [
      "              precision    recall  f1-score   support\n",
      "\n",
      "         ham       0.76      0.82      0.79       575\n",
      "        spam       0.96      0.94      0.95      2425\n",
      "\n",
      "    accuracy                           0.92      3000\n",
      "   macro avg       0.86      0.88      0.87      3000\n",
      "weighted avg       0.92      0.92      0.92      3000\n",
      "\n"
     ]
    }
   ],
   "source": [
    "from sklearn.metrics import accuracy_score, classification_report\n",
    "DT = DecisionTreeClassifier()\n",
    "DT.fit(x_train_df, train_set.Label)\n",
    "predicted_values_DT = DT.predict(x_test_df)\n",
    "print(predicted_values_DT)\n",
    "accuracy_DT = accuracy_score(test_set.Label, predicted_values_DT)\n",
    "predictions['Decision Tree learning'] = accuracy_DT * 100\n",
    "print(\"\\nThe accuracy of Decision Tree learning is {}%\".format(accuracy_DT * 100))\n",
    "confusion_matrix_DT = confusion_matrix(test_set.Label, predicted_values_DT)\n",
    "print(\"\\n\", confusion_matrix_DT)\n",
    "skplt.metrics.plot_confusion_matrix(test_set.Label, predicted_values_DT, normalize = True)\n",
    "plt.show()\n",
    "print(classification_report(test_set.Label,predicted_values_DT))\n",
    "#print(accuracy_DT)"
   ]
  },
  {
   "cell_type": "markdown",
   "metadata": {},
   "source": [
    "# Support Vector Machine (SVM)"
   ]
  },
  {
   "cell_type": "code",
   "execution_count": 45,
   "metadata": {},
   "outputs": [
    {
     "name": "stderr",
     "output_type": "stream",
     "text": [
      "C:\\Users\\Jojo\\Anaconda3\\lib\\site-packages\\sklearn\\svm\\base.py:193: FutureWarning: The default value of gamma will change from 'auto' to 'scale' in version 0.22 to account better for unscaled features. Set gamma explicitly to 'auto' or 'scale' to avoid this warning.\n",
      "  \"avoid this warning.\", FutureWarning)\n"
     ]
    },
    {
     "name": "stdout",
     "output_type": "stream",
     "text": [
      "['spam' 'spam' 'spam' ... 'spam' 'spam' 'spam']\n",
      "\n",
      "The accuracy of Support Vector Machine (SVM) is 80.83333333333333%\n",
      "\n",
      " [[   0  575]\n",
      " [   0 2425]]\n"
     ]
    },
    {
     "data": {
      "image/png": "[encoded data removed]",
      "text/plain": [
       "<Figure size 432x288 with 2 Axes>"
      ]
     },
     "metadata": {
      "needs_background": "light"
     },
     "output_type": "display_data"
    },
    {
     "name": "stdout",
     "output_type": "stream",
     "text": [
      "              precision    recall  f1-score   support\n",
      "\n",
      "         ham       0.00      0.00      0.00       575\n",
      "        spam       0.81      1.00      0.89      2425\n",
      "\n",
      "    accuracy                           0.81      3000\n",
      "   macro avg       0.40      0.50      0.45      3000\n",
      "weighted avg       0.65      0.81      0.72      3000\n",
      "\n"
     ]
    },
    {
     "name": "stderr",
     "output_type": "stream",
     "text": [
      "C:\\Users\\Jojo\\Anaconda3\\lib\\site-packages\\sklearn\\metrics\\classification.py:1437: UndefinedMetricWarning: Precision and F-score are ill-defined and being set to 0.0 in labels with no predicted samples.\n",
      "  'precision', 'predicted', average, warn_for)\n",
      "C:\\Users\\Jojo\\Anaconda3\\lib\\site-packages\\sklearn\\metrics\\classification.py:1437: UndefinedMetricWarning: Precision and F-score are ill-defined and being set to 0.0 in labels with no predicted samples.\n",
      "  'precision', 'predicted', average, warn_for)\n",
      "C:\\Users\\Jojo\\Anaconda3\\lib\\site-packages\\sklearn\\metrics\\classification.py:1437: UndefinedMetricWarning: Precision and F-score are ill-defined and being set to 0.0 in labels with no predicted samples.\n",
      "  'precision', 'predicted', average, warn_for)\n"
     ]
    }
   ],
   "source": [
    "SVM = svm.SVC()\n",
    "SVM.fit(x_train_df, train_set.Label)\n",
    "predicted_values_SVM = SVM.predict(x_test_df)\n",
    "print(predicted_values_SVM)\n",
    "accuracy_SVM = accuracy_score(test_set.Label, predicted_values_SVM)\n",
    "predictions['Support Vector Machine (SVM)'] = accuracy_SVM * 100\n",
    "print(\"\\nThe accuracy of Support Vector Machine (SVM) is {}%\".format(accuracy_SVM * 100))\n",
    "confusion_matrix_SVM = confusion_matrix(test_set.Label, predicted_values_SVM)\n",
    "print(\"\\n\", confusion_matrix_SVM)\n",
    "skplt.metrics.plot_confusion_matrix(test_set.Label, predicted_values_SVM, normalize = True)\n",
    "plt.show()\n",
    "print(classification_report(test_set.Label,predicted_values_SVM))\n",
    "#print(accuracy_SVM)"
   ]
  },
  {
   "cell_type": "markdown",
   "metadata": {},
   "source": [
    "# Random Forest"
   ]
  },
  {
   "cell_type": "code",
   "execution_count": 46,
   "metadata": {},
   "outputs": [
    {
     "name": "stdout",
     "output_type": "stream",
     "text": [
      "['spam' 'ham' 'spam' ... 'spam' 'spam' 'ham']\n",
      "\n",
      "The accuracy of Random Forest is 93.7%\n",
      "\n",
      " [[ 486   89]\n",
      " [ 100 2325]]\n"
     ]
    },
    {
     "data": {
      "image/png": "[encoded data removed]",
      "text/plain": [
       "<Figure size 432x288 with 2 Axes>"
      ]
     },
     "metadata": {
      "needs_background": "light"
     },
     "output_type": "display_data"
    },
    {
     "name": "stdout",
     "output_type": "stream",
     "text": [
      "              precision    recall  f1-score   support\n",
      "\n",
      "         ham       0.83      0.85      0.84       575\n",
      "        spam       0.96      0.96      0.96      2425\n",
      "\n",
      "    accuracy                           0.94      3000\n",
      "   macro avg       0.90      0.90      0.90      3000\n",
      "weighted avg       0.94      0.94      0.94      3000\n",
      "\n"
     ]
    }
   ],
   "source": [
    "RF = RandomForestClassifier(n_estimators = 100, oob_score = True, random_state = 456)\n",
    "# n_estimators - количество деревьев в лесе\n",
    "# oob_score - использовать ли образцы вне примеров для оценки точности обобщения\n",
    "RF.fit(x_train_df, train_set.Label)\n",
    "predicted_values_RF = RF.predict(x_test_df)\n",
    "print(predicted_values_RF)\n",
    "accuracy_RF = accuracy_score(test_set.Label, predicted_values_RF)\n",
    "predictions['Random Forest'] = accuracy_RF * 100\n",
    "print(\"\\nThe accuracy of Random Forest is {}%\".format(accuracy_RF * 100))\n",
    "confusion_matrix_RF = confusion_matrix(test_set.Label, predicted_values_RF)\n",
    "print(\"\\n\", confusion_matrix_RF)\n",
    "skplt.metrics.plot_confusion_matrix(test_set.Label, predicted_values_RF, normalize = True)\n",
    "plt.show()\n",
    "print(classification_report(test_set.Label,predicted_values_RF))\n",
    "#print(accuracy_RF)"
   ]
  },
  {
   "cell_type": "code",
   "execution_count": 47,
   "metadata": {},
   "outputs": [
    {
     "name": "stderr",
     "output_type": "stream",
     "text": [
      "C:\\Users\\Jojo\\Anaconda3\\lib\\site-packages\\sklearn\\linear_model\\logistic.py:432: FutureWarning: Default solver will be changed to 'lbfgs' in 0.22. Specify a solver to silence this warning.\n",
      "  FutureWarning)\n"
     ]
    },
    {
     "name": "stdout",
     "output_type": "stream",
     "text": [
      "['spam' 'ham' 'spam' ... 'spam' 'spam' 'ham']\n",
      "\n",
      "The accuracy of Logistic Regresion is 94.69999999999999%\n",
      "\n",
      " [[ 528   47]\n",
      " [ 112 2313]]\n"
     ]
    },
    {
     "data": {
      "image/png": "[encoded data removed]",
      "text/plain": [
       "<Figure size 432x288 with 2 Axes>"
      ]
     },
     "metadata": {
      "needs_background": "light"
     },
     "output_type": "display_data"
    },
    {
     "name": "stdout",
     "output_type": "stream",
     "text": [
      "              precision    recall  f1-score   support\n",
      "\n",
      "         ham       0.82      0.92      0.87       575\n",
      "        spam       0.98      0.95      0.97      2425\n",
      "\n",
      "    accuracy                           0.95      3000\n",
      "   macro avg       0.90      0.94      0.92      3000\n",
      "weighted avg       0.95      0.95      0.95      3000\n",
      "\n"
     ]
    }
   ],
   "source": [
    "from sklearn.linear_model import LogisticRegression\n",
    "logreg = LogisticRegression(C=1e5)\n",
    "logreg_result = logreg.fit(x_train_df, train_set.Label)\n",
    "#prediction['Logistic'] = logreg.predict(x_test_df)\n",
    "\n",
    "predicted_values_LR=logreg.predict(x_test_df)\n",
    "print(predicted_values_LR)\n",
    "accuracy_LR = accuracy_score(test_set.Label, predicted_values_LR)\n",
    "predictions['Logistic Regresion'] = accuracy_LR * 100\n",
    "print(\"\\nThe accuracy of Logistic Regresion is {}%\".format(accuracy_LR * 100))\n",
    "confusion_matrix_LR = confusion_matrix(test_set.Label, predicted_values_LR)\n",
    "print(\"\\n\", confusion_matrix_LR)\n",
    "skplt.metrics.plot_confusion_matrix(test_set.Label, predicted_values_LR, normalize = True)\n",
    "plt.show()\n",
    "print(classification_report(test_set.Label,predicted_values_LR))\n",
    "#print(accuracy_LR)"
   ]
  },
  {
   "cell_type": "markdown",
   "metadata": {},
   "source": [
    "# Method Comparison"
   ]
  },
  {
   "cell_type": "code",
   "execution_count": 51,
   "metadata": {},
   "outputs": [
    {
     "data": {
      "text/html": [
       "<div>\n",
       "<style scoped>\n",
       "    .dataframe tbody tr th:only-of-type {\n",
       "        vertical-align: middle;\n",
       "    }\n",
       "\n",
       "    .dataframe tbody tr th {\n",
       "        vertical-align: top;\n",
       "    }\n",
       "\n",
       "    .dataframe thead th {\n",
       "        text-align: right;\n",
       "    }\n",
       "</style>\n",
       "<table border=\"1\" class=\"dataframe\">\n",
       "  <thead>\n",
       "    <tr style=\"text-align: right;\">\n",
       "      <th></th>\n",
       "      <th>Algorithms</th>\n",
       "      <th>Percentage</th>\n",
       "    </tr>\n",
       "  </thead>\n",
       "  <tbody>\n",
       "    <tr>\n",
       "      <th>0</th>\n",
       "      <td>Naive Bayes</td>\n",
       "      <td>96.733333</td>\n",
       "    </tr>\n",
       "    <tr>\n",
       "      <th>1</th>\n",
       "      <td>Support Vector Machine (SVM)</td>\n",
       "      <td>80.833333</td>\n",
       "    </tr>\n",
       "    <tr>\n",
       "      <th>2</th>\n",
       "      <td>Random Forest</td>\n",
       "      <td>93.700000</td>\n",
       "    </tr>\n",
       "    <tr>\n",
       "      <th>3</th>\n",
       "      <td>Logistic Regresion</td>\n",
       "      <td>94.700000</td>\n",
       "    </tr>\n",
       "  </tbody>\n",
       "</table>\n",
       "</div>"
      ],
      "text/plain": [
       "                     Algorithms  Percentage\n",
       "0                   Naive Bayes   96.733333\n",
       "1  Support Vector Machine (SVM)   80.833333\n",
       "2                 Random Forest   93.700000\n",
       "3            Logistic Regresion   94.700000"
      ]
     },
     "metadata": {},
     "output_type": "display_data"
    },
    {
     "data": {
      "image/png": "[encoded data removed]",
      "text/plain": [
       "<Figure size 1080x360 with 1 Axes>"
      ]
     },
     "metadata": {
      "needs_background": "light"
     },
     "output_type": "display_data"
    }
   ],
   "source": [
    "fig, (ax1) = plt.subplots(ncols = 1, sharey = True,figsize = (15,5))\n",
    "df = pd.DataFrame(list(predictions.items()),columns = ['Algorithms','Percentage'])\n",
    "display(df)\n",
    "sns.barplot(x = \"Algorithms\", y = \"Percentage\", data = df,ax = ax1);"
   ]
  },
  {
   "cell_type": "markdown",
   "metadata": {},
   "source": [
    "# ROC Accuracy"
   ]
  },
  {
   "cell_type": "code",
   "execution_count": 21,
   "metadata": {},
   "outputs": [
    {
     "name": "stdout",
     "output_type": "stream",
     "text": [
      "The ROC Accuracy is 0.919426266248319\n"
     ]
    }
   ],
   "source": [
    "#pr, tpr, thresholds = roc_curve(testset.v1,predicted_values_XGB, pos_label=2)\n",
    "test_prediction = test_set.Label.tolist()\n",
    "predicted_values = predicted_values_NB.tolist()\n",
    "test_prediction = [1 if pred==\"spam\" else 0 for pred in test_prediction]\n",
    "predicted_values = [1 if pred==\"spam\" else 0 for pred in predicted_values]\n",
    "fpr, tpr, thresholds = roc_curve(test_prediction,predicted_values)\n",
    "roc_auc = auc(fpr, tpr)\n",
    "print(\"The ROC Accuracy is {}\".format(roc_auc))"
   ]
  },
  {
   "cell_type": "code",
   "execution_count": 22,
   "metadata": {},
   "outputs": [
    {
     "data": {
      "image/png": "[encoded data removed]",
      "text/plain": [
       "<Figure size 432x288 with 1 Axes>"
      ]
     },
     "metadata": {
      "needs_background": "light"
     },
     "output_type": "display_data"
    }
   ],
   "source": [
    "plt.title('Receiver Operating Characteristic')\n",
    "plt.plot(fpr, tpr, 'b',\n",
    "label='AUC = %0.2f'% roc_auc)\n",
    "plt.legend(loc='lower right')\n",
    "plt.plot([0,1],[0,1],'r--')\n",
    "plt.xlim([-0.1,1.2])\n",
    "plt.ylim([-0.1,1.2])\n",
    "plt.ylabel('True Positive Rate')\n",
    "plt.xlabel('False Positive Rate')\n",
    "plt.show()"
   ]
  },
  {
   "cell_type": "code",
   "execution_count": null,
   "metadata": {},
   "outputs": [],
   "source": []
  }
 ],
 "metadata": {
  "kernelspec": {
   "display_name": "Python 3",
   "language": "python",
   "name": "python3"
  },
  "language_info": {
   "codemirror_mode": {
    "name": "ipython",
    "version": 3
   },
   "file_extension": ".py",
   "mimetype": "text/x-python",
   "name": "python",
   "nbconvert_exporter": "python",
   "pygments_lexer": "ipython3",
   "version": "3.7.3"
  }
 },
 "nbformat": 4,
 "nbformat_minor": 2
}
